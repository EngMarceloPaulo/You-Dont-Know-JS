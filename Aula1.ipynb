{
  "nbformat": 4,
  "nbformat_minor": 0,
  "metadata": {
    "colab": {
      "name": "Aula1.ipynb",
      "provenance": [],
      "authorship_tag": "ABX9TyPQPXV7ZCfkYDPhqjZV13ag",
      "include_colab_link": true
    },
    "kernelspec": {
      "name": "python3",
      "display_name": "Python 3"
    }
  },
  "cells": [
    {
      "cell_type": "markdown",
      "metadata": {
        "id": "view-in-github",
        "colab_type": "text"
      },
      "source": [
        "<a href=\"https://colab.research.google.com/github/EngMarceloPaulo/You-Dont-Know-JS/blob/master/Aula1.ipynb\" target=\"_parent\"><img src=\"https://colab.research.google.com/assets/colab-badge.svg\" alt=\"Open In Colab\"/></a>"
      ]
    },
    {
      "cell_type": "code",
      "metadata": {
        "colab": {
          "base_uri": "https://localhost:8080/"
        },
        "id": "2nSj2W792MNu",
        "outputId": "8dcd2687-86b0-4cb8-d041-64b7c9bc0b7b"
      },
      "source": [
        "NomeDaVariavel = 'Marcelo'\r\n",
        "nomedavariavel = 'Paulo'\r\n",
        "nome = NomeDaVariavel + ' ' + nomedavariavel\r\n",
        "var = 45\r\n",
        "var2 = 2\r\n",
        "var3 = var + var2\r\n",
        "print(nome)\r\n",
        "print(var3)\r\n",
        "print(NomeDaVariavel)\r\n",
        "print(nomedavariavel)\r\n"
      ],
      "execution_count": 11,
      "outputs": [
        {
          "output_type": "stream",
          "text": [
            "Marcelo Paulo\n",
            "47\n",
            "Marcelo\n",
            "Paulo\n"
          ],
          "name": "stdout"
        }
      ]
    }
  ]
}